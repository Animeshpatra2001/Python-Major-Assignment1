{
 "cells": [
  {
   "cell_type": "code",
   "execution_count": null,
   "id": "139b6144-5b13-4d9a-b6c4-8ecd4e1905f1",
   "metadata": {},
   "outputs": [],
   "source": [
    "pi, denominator = 4, 3\n",
    "count, sign_count = 0, 1\n",
    "print(\"Count                 PI\")\n",
    "print(f\"1                    {pi}\")\n",
    "\n",
    "while count < 1000:\n",
    "\tif sign_count == 1:\n",
    "\t\tpi -= (4 / denominator)\n",
    "\t\tdenominator = denominator + 2\n",
    "\telse:\n",
    "\t\tpi += (4 / denominator)\n",
    "\t\tdenominator = denominator + 2\n",
    "\t\t\n",
    "    sign_count *= -1\n",
    "    count = count + 1\n",
    "\n",
    "    print(f\"{count:}              {pi}\")\n"
   ]
  }
 ],
 "metadata": {
  "kernelspec": {
   "display_name": "Python 3 (ipykernel)",
   "language": "python",
   "name": "python3"
  },
  "language_info": {
   "codemirror_mode": {
    "name": "ipython",
    "version": 3
   },
   "file_extension": ".py",
   "mimetype": "text/x-python",
   "name": "python",
   "nbconvert_exporter": "python",
   "pygments_lexer": "ipython3",
   "version": "3.11.7"
  }
 },
 "nbformat": 4,
 "nbformat_minor": 5
}
