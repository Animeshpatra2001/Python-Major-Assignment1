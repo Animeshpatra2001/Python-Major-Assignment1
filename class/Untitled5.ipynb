{
 "cells": [
  {
   "cell_type": "code",
   "execution_count": 5,
   "id": "e507957d-dbe5-4bc1-b483-bfbdee6e156f",
   "metadata": {},
   "outputs": [
    {
     "name": "stdout",
     "output_type": "stream",
     "text": [
      "('jan', 31)\n",
      "('feb', 28)\n",
      "('mar', 31)\n",
      "jan:31\n",
      "feb:28\n",
      "mar:31\n"
     ]
    }
   ],
   "source": [
    "days_per_month = {'jan':31, 'feb':28, 'mar':31}\n",
    "for items in list(days_per_month.items()):\n",
    "    print(items)\n",
    "for items in list(days_per_month.items()):\n",
    "    print(f\"{items[0]}:{items[1]}\")"
   ]
  },
  {
   "cell_type": "code",
   "execution_count": null,
   "id": "f11cca8f-ebad-44f1-adee-2457a3632d62",
   "metadata": {},
   "outputs": [],
   "source": [
    "student_data= ['A':23,'B':21,'C':23,'D':23,'E':23,'F':23 ]"
   ]
  }
 ],
 "metadata": {
  "kernelspec": {
   "display_name": "Python 3 (ipykernel)",
   "language": "python",
   "name": "python3"
  },
  "language_info": {
   "codemirror_mode": {
    "name": "ipython",
    "version": 3
   },
   "file_extension": ".py",
   "mimetype": "text/x-python",
   "name": "python",
   "nbconvert_exporter": "python",
   "pygments_lexer": "ipython3",
   "version": "3.11.7"
  }
 },
 "nbformat": 4,
 "nbformat_minor": 5
}
