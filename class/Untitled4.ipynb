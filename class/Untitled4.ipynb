{
 "cells": [
  {
   "cell_type": "code",
   "execution_count": 3,
   "id": "5051f659-4cb0-4e14-8c68-033d3d345ba2",
   "metadata": {},
   "outputs": [
    {
     "name": "stdout",
     "output_type": "stream",
     "text": [
      "random list [9, 48, 93, 56, 35]\n",
      "sum 241\n",
      "average 48.2\n"
     ]
    }
   ],
   "source": [
    "import random\n",
    "n=5\n",
    "random_list=[random.randint(1,100)for _ in range(n)]\n",
    "total_sum=sum(random_list)\n",
    "avg=sum(random_list)/len(random_list)\n",
    "print(\"random list\",random_list)\n",
    "print(\"sum\",total_sum)\n",
    "print(\"average\",avg)"
   ]
  },
  {
   "cell_type": "code",
   "execution_count": null,
   "id": "69d5df90-d46b-4fbf-8342-cb0ba0809db8",
   "metadata": {},
   "outputs": [],
   "source": [
    "r"
   ]
  }
 ],
 "metadata": {
  "kernelspec": {
   "display_name": "Python 3 (ipykernel)",
   "language": "python",
   "name": "python3"
  },
  "language_info": {
   "codemirror_mode": {
    "name": "ipython",
    "version": 3
   },
   "file_extension": ".py",
   "mimetype": "text/x-python",
   "name": "python",
   "nbconvert_exporter": "python",
   "pygments_lexer": "ipython3",
   "version": "3.11.7"
  }
 },
 "nbformat": 4,
 "nbformat_minor": 5
}
