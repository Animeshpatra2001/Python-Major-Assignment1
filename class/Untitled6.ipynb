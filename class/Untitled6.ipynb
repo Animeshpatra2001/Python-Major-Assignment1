{
 "cells": [
  {
   "cell_type": "code",
   "execution_count": 1,
   "id": "fdb9d808-e52e-4656-b020-4b3869a8d60d",
   "metadata": {},
   "outputs": [
    {
     "name": "stdout",
     "output_type": "stream",
     "text": [
      "Name: Deb, Average: 1.0\n",
      "Name: Sai, Average: 30.0\n",
      "Name: Animesh, Average: 28.0\n",
      "Class average is: 19.67\n"
     ]
    }
   ],
   "source": [
    "student_results = {'Deb': [1,1,1,1,1], 'Sai': [30,30,30,30,30], 'Animesh': [29,28,27,26,30]}\n",
    "total = 0\n",
    "for name, result in student_results.items():\n",
    "    print(f\"Name: {name}, Average: {sum(list(result)) / 5}\")\n",
    "    total += sum(list(result)) / 5\n",
    "\n",
    "print(f\"Class average is: {(total / 3):.2f}\")"
   ]
  },
  {
   "cell_type": "code",
   "execution_count": null,
   "id": "c55c2d93-1585-423c-ad07-1649276abb3f",
   "metadata": {},
   "outputs": [],
   "source": []
  }
 ],
 "metadata": {
  "kernelspec": {
   "display_name": "Python 3 (ipykernel)",
   "language": "python",
   "name": "python3"
  },
  "language_info": {
   "codemirror_mode": {
    "name": "ipython",
    "version": 3
   },
   "file_extension": ".py",
   "mimetype": "text/x-python",
   "name": "python",
   "nbconvert_exporter": "python",
   "pygments_lexer": "ipython3",
   "version": "3.11.7"
  }
 },
 "nbformat": 4,
 "nbformat_minor": 5
}
